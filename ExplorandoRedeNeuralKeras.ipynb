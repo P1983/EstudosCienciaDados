{
  "nbformat": 4,
  "nbformat_minor": 0,
  "metadata": {
    "colab": {
      "provenance": []
    },
    "kernelspec": {
      "name": "python3",
      "display_name": "Python 3"
    },
    "language_info": {
      "name": "python"
    }
  },
  "cells": [
    {
      "cell_type": "markdown",
      "source": [
        "Construção do modelo"
      ],
      "metadata": {
        "id": "2Z6TmZpNPIvj"
      }
    },
    {
      "cell_type": "code",
      "source": [
        "#imports\n",
        "import tensorflow\n",
        "from tensorflow import keras\n",
        "import matplotlib.pyplot as plt\n",
        "import numpy as np\n",
        "from tensorflow.keras.models import load_model\n",
        "\n",
        "#carregando o dataset\n",
        "dataset = keras.datasets.fashion_mnist\n",
        "((imagens_treino, identificacoes_treino), (imagens_teste, identificacoes_teste)) = dataset.load_data()\n",
        "\n",
        "#normalizando as imagens\n",
        "imagens_treino = imagens_treino/float(255)\n",
        "\n",
        "#criação do modelo\n",
        "modelo = keras.Sequential([ \n",
        "    keras.layers.Flatten(input_shape=(28, 28)),\n",
        "    keras.layers.Dense(256, activation=tensorflow.nn.relu),\n",
        "    keras.layers.Dropout(0.2),\n",
        "    keras.layers.Dense(10, activation=tensorflow.nn.softmax)\n",
        "])\n",
        "\n",
        "#compilação do modelo\n",
        "modelo.compile(optimizer='adam', \n",
        "               loss='sparse_categorical_crossentropy',\n",
        "               metrics=['accuracy'])\n",
        "\n",
        "#treino do modelo\n",
        "historico = modelo.fit(imagens_treino, identificacoes_treino, epochs=5, validation_split=0.2)"
      ],
      "metadata": {
        "colab": {
          "base_uri": "https://localhost:8080/"
        },
        "id": "QYb2Av53PLLq",
        "outputId": "4b0fa794-c8df-44ef-de8a-1383670780a4"
      },
      "execution_count": 1,
      "outputs": [
        {
          "output_type": "stream",
          "name": "stdout",
          "text": [
            "Downloading data from https://storage.googleapis.com/tensorflow/tf-keras-datasets/train-labels-idx1-ubyte.gz\n",
            "29515/29515 [==============================] - 0s 0us/step\n",
            "Downloading data from https://storage.googleapis.com/tensorflow/tf-keras-datasets/train-images-idx3-ubyte.gz\n",
            "26421880/26421880 [==============================] - 0s 0us/step\n",
            "Downloading data from https://storage.googleapis.com/tensorflow/tf-keras-datasets/t10k-labels-idx1-ubyte.gz\n",
            "5148/5148 [==============================] - 0s 0us/step\n",
            "Downloading data from https://storage.googleapis.com/tensorflow/tf-keras-datasets/t10k-images-idx3-ubyte.gz\n",
            "4422102/4422102 [==============================] - 0s 0us/step\n",
            "Epoch 1/5\n",
            "1500/1500 [==============================] - 15s 8ms/step - loss: 0.5260 - accuracy: 0.8137 - val_loss: 0.4349 - val_accuracy: 0.8415\n",
            "Epoch 2/5\n",
            "1500/1500 [==============================] - 9s 6ms/step - loss: 0.3981 - accuracy: 0.8565 - val_loss: 0.3789 - val_accuracy: 0.8640\n",
            "Epoch 3/5\n",
            "1500/1500 [==============================] - 10s 6ms/step - loss: 0.3617 - accuracy: 0.8661 - val_loss: 0.3496 - val_accuracy: 0.8730\n",
            "Epoch 4/5\n",
            "1500/1500 [==============================] - 10s 6ms/step - loss: 0.3412 - accuracy: 0.8745 - val_loss: 0.3436 - val_accuracy: 0.8763\n",
            "Epoch 5/5\n",
            "1500/1500 [==============================] - 11s 7ms/step - loss: 0.3228 - accuracy: 0.8795 - val_loss: 0.3527 - val_accuracy: 0.8718\n"
          ]
        }
      ]
    },
    {
      "cell_type": "markdown",
      "source": [
        "Apresentação do resumo do modelo\n",
        "\n",
        "camadas, número de neurônios e número de parâmetros"
      ],
      "metadata": {
        "id": "eQV-J5HrP4V3"
      }
    },
    {
      "cell_type": "code",
      "source": [
        "sumario_do_modelo = modelo.summary()"
      ],
      "metadata": {
        "colab": {
          "base_uri": "https://localhost:8080/"
        },
        "id": "nQOx-0wNQTTQ",
        "outputId": "06e0af4e-51df-4bea-99f4-ad665418167c"
      },
      "execution_count": 2,
      "outputs": [
        {
          "output_type": "stream",
          "name": "stdout",
          "text": [
            "Model: \"sequential\"\n",
            "_________________________________________________________________\n",
            " Layer (type)                Output Shape              Param #   \n",
            "=================================================================\n",
            " flatten (Flatten)           (None, 784)               0         \n",
            "                                                                 \n",
            " dense (Dense)               (None, 256)               200960    \n",
            "                                                                 \n",
            " dropout (Dropout)           (None, 256)               0         \n",
            "                                                                 \n",
            " dense_1 (Dense)             (None, 10)                2570      \n",
            "                                                                 \n",
            "=================================================================\n",
            "Total params: 203,530\n",
            "Trainable params: 203,530\n",
            "Non-trainable params: 0\n",
            "_________________________________________________________________\n"
          ]
        }
      ]
    },
    {
      "cell_type": "markdown",
      "source": [
        "Pesos da camada Dense"
      ],
      "metadata": {
        "id": "6QKunGmvQYaK"
      }
    },
    {
      "cell_type": "code",
      "source": [
        "pesos_camada_dense = modelo.layers[1].get_weights()[0]\n",
        "pesos_camada_dense"
      ],
      "metadata": {
        "colab": {
          "base_uri": "https://localhost:8080/"
        },
        "id": "SGhrI3QPQlua",
        "outputId": "7d247b08-2b4f-4001-e5d4-df490b17bd80"
      },
      "execution_count": 3,
      "outputs": [
        {
          "output_type": "execute_result",
          "data": {
            "text/plain": [
              "array([[ 0.13013649,  0.00692351, -0.00225019, ...,  0.11383546,\n",
              "         0.10747522, -0.01707197],\n",
              "       [ 0.07209031, -0.05014082,  0.10395421, ...,  0.0314511 ,\n",
              "        -0.0538953 , -0.0042597 ],\n",
              "       [ 0.0372483 , -0.05432097,  0.10742832, ...,  0.02795813,\n",
              "         0.16743663, -0.12786655],\n",
              "       ...,\n",
              "       [-0.09329887, -0.11663625,  0.09927   , ...,  0.10358344,\n",
              "        -0.04696145, -0.10996315],\n",
              "       [-0.10682976, -0.03407687, -0.05712027, ...,  0.06305245,\n",
              "        -0.1243461 ,  0.01409769],\n",
              "       [ 0.05638343, -0.06345141,  0.15314858, ...,  0.06394553,\n",
              "         0.00597532, -0.01674252]], dtype=float32)"
            ]
          },
          "metadata": {},
          "execution_count": 3
        }
      ]
    },
    {
      "cell_type": "markdown",
      "source": [
        "Vieses da camada Dense"
      ],
      "metadata": {
        "id": "VA4DeqvQQoKD"
      }
    },
    {
      "cell_type": "code",
      "source": [
        "vieses_camada_dense = modelo.layers[1].get_weights()[1]\n",
        "vieses_camada_dense"
      ],
      "metadata": {
        "colab": {
          "base_uri": "https://localhost:8080/"
        },
        "id": "wOpnRnM2Qqod",
        "outputId": "8201e9ac-b24a-49ed-e843-508bd6086fb0"
      },
      "execution_count": 4,
      "outputs": [
        {
          "output_type": "execute_result",
          "data": {
            "text/plain": [
              "array([ 0.27330035,  0.15061194,  0.33348894,  0.07659185, -0.07220516,\n",
              "        0.24823579,  0.04944307,  0.30728436,  0.07554124,  0.37786597,\n",
              "       -0.02308011, -0.01222126,  0.47783813, -0.06786637, -0.19111414,\n",
              "       -0.11595001, -0.05957222,  0.2511703 ,  0.2798609 ,  0.38080212,\n",
              "       -0.01407736,  0.04539083, -0.1462171 ,  0.03825373, -0.02092627,\n",
              "        0.0931837 ,  0.329296  , -0.01311325, -0.23327643,  0.04385629,\n",
              "        0.28104177,  0.14623466,  0.03555341,  0.18587679,  0.4828314 ,\n",
              "        0.27275807,  0.27316782, -0.00886186, -0.10302033,  0.23295459,\n",
              "        0.13563849,  0.09714986,  0.225158  , -0.00739771,  0.05281691,\n",
              "       -0.0070192 ,  0.09175508,  0.00986235,  0.235289  , -0.14536813,\n",
              "        0.08244738,  0.22293057,  0.02456542,  0.11172812,  0.34525532,\n",
              "        0.02334093,  0.1696744 ,  0.07344321,  0.13975456,  0.27160606,\n",
              "        0.29793185,  0.07322457,  0.40510193,  0.07426254,  0.14944138,\n",
              "        0.12751704,  0.1679519 ,  0.07820094,  0.05861551,  0.17130663,\n",
              "        0.32924214, -0.00887683,  0.11458649, -0.00776626, -0.0275194 ,\n",
              "        0.21740445, -0.47813496,  0.41811174, -0.11506862, -0.08267944,\n",
              "        0.0916103 , -0.19647384,  0.20913899, -0.16767529,  0.18418056,\n",
              "        0.30961403,  0.17922243,  0.23135498,  0.2712394 , -0.06751459,\n",
              "        0.07857891,  0.3516556 , -0.02009315, -0.10367347,  0.08705726,\n",
              "        0.32960626, -0.0060026 ,  0.17646319, -0.01491205,  0.20644367,\n",
              "       -0.02408361, -0.06410904, -0.08886407, -0.24822098,  0.23526663,\n",
              "        0.2587664 ,  0.24105027,  0.18504502,  0.34175012,  0.16075288,\n",
              "        0.05516435,  0.00845436, -0.00696302,  0.3722783 , -0.01441159,\n",
              "        0.14097586, -0.06411944, -0.0060037 ,  0.0715014 ,  0.4629432 ,\n",
              "       -0.11363542, -0.17234658,  0.06202781, -0.08825027,  0.09847336,\n",
              "       -0.23422079,  0.01971185,  0.13100591,  0.12557246, -0.02476155,\n",
              "        0.18947615,  0.12546517,  0.33385122,  0.23536406, -0.21241404,\n",
              "        0.10706034,  0.1669602 ,  0.04456829,  0.3793733 , -0.06294698,\n",
              "        0.03217215,  0.22657882, -0.15822537,  0.27107155, -0.00672459,\n",
              "        0.39008275,  0.08690401,  0.00161858, -0.01036361, -0.08760741,\n",
              "        0.30544147,  0.24852407,  0.24493961, -0.10319816,  0.41430864,\n",
              "        0.15207502,  0.27900305, -0.00667795,  0.15523294,  0.07554425,\n",
              "        0.19216786,  0.01964917,  0.19637123, -0.06705038,  0.00102346,\n",
              "       -0.04403177, -0.03595046,  0.28979304,  0.21364947,  0.3350515 ,\n",
              "        0.22156134, -0.07429126,  0.36220106,  0.08836669,  0.35139453,\n",
              "       -0.07304463, -0.08979305, -0.16574562,  0.01649299,  0.06387893,\n",
              "        0.13407311, -0.03116937,  0.29590365,  0.2198917 ,  0.05561156,\n",
              "        0.0139148 ,  0.34547114,  0.2377632 ,  0.14967546, -0.00232181,\n",
              "       -0.26360723, -0.23248075,  0.5123619 ,  0.32934213,  0.02722207,\n",
              "        0.27975616,  0.21123499,  0.2771728 ,  0.22949967,  0.26879236,\n",
              "        0.10792828, -0.05585449, -0.01286813,  0.23418093, -0.2653591 ,\n",
              "       -0.01102744, -0.03334067, -0.03841014,  0.06911109,  0.01145628,\n",
              "       -0.08441214,  0.29853702,  0.2513586 ,  0.07163844,  0.00155895,\n",
              "        0.08541159, -0.11325329, -0.3337472 , -0.03530061, -0.16829203,\n",
              "       -0.01602038,  0.3823353 ,  0.23322365, -0.01397422,  0.06018097,\n",
              "        0.35643676,  0.01783391,  0.08855169,  0.29174733,  0.2465231 ,\n",
              "        0.19778559, -0.01532904,  0.02280286, -0.01515672, -0.30590135,\n",
              "       -0.0120144 , -0.02808837, -0.16493586, -0.1321241 ,  0.21131687,\n",
              "        0.18960188, -0.3521848 , -0.00879233,  0.12082244,  0.17940725,\n",
              "        0.21254703, -0.24830393,  0.03884378,  0.3282199 ,  0.32726172,\n",
              "       -0.06091316, -0.01697709, -0.02182723,  0.2134445 ,  0.1777503 ,\n",
              "       -0.10478457], dtype=float32)"
            ]
          },
          "metadata": {},
          "execution_count": 4
        }
      ]
    },
    {
      "cell_type": "markdown",
      "source": [
        "Configuração do modelo"
      ],
      "metadata": {
        "id": "fYe6B7v6RIbR"
      }
    },
    {
      "cell_type": "code",
      "source": [
        "modelo.get_config()"
      ],
      "metadata": {
        "colab": {
          "base_uri": "https://localhost:8080/"
        },
        "id": "7QajiK4mRKxa",
        "outputId": "ebb287d9-8856-48a3-f7c8-d0daa095a925"
      },
      "execution_count": 5,
      "outputs": [
        {
          "output_type": "execute_result",
          "data": {
            "text/plain": [
              "{'name': 'sequential',\n",
              " 'layers': [{'class_name': 'InputLayer',\n",
              "   'config': {'batch_input_shape': (None, 28, 28),\n",
              "    'dtype': 'float32',\n",
              "    'sparse': False,\n",
              "    'ragged': False,\n",
              "    'name': 'flatten_input'}},\n",
              "  {'class_name': 'Flatten',\n",
              "   'config': {'name': 'flatten',\n",
              "    'trainable': True,\n",
              "    'dtype': 'float32',\n",
              "    'batch_input_shape': (None, 28, 28),\n",
              "    'data_format': 'channels_last'}},\n",
              "  {'class_name': 'Dense',\n",
              "   'config': {'name': 'dense',\n",
              "    'trainable': True,\n",
              "    'dtype': 'float32',\n",
              "    'units': 256,\n",
              "    'activation': 'relu',\n",
              "    'use_bias': True,\n",
              "    'kernel_initializer': {'class_name': 'GlorotUniform',\n",
              "     'config': {'seed': None}},\n",
              "    'bias_initializer': {'class_name': 'Zeros', 'config': {}},\n",
              "    'kernel_regularizer': None,\n",
              "    'bias_regularizer': None,\n",
              "    'activity_regularizer': None,\n",
              "    'kernel_constraint': None,\n",
              "    'bias_constraint': None}},\n",
              "  {'class_name': 'Dropout',\n",
              "   'config': {'name': 'dropout',\n",
              "    'trainable': True,\n",
              "    'dtype': 'float32',\n",
              "    'rate': 0.2,\n",
              "    'noise_shape': None,\n",
              "    'seed': None}},\n",
              "  {'class_name': 'Dense',\n",
              "   'config': {'name': 'dense_1',\n",
              "    'trainable': True,\n",
              "    'dtype': 'float32',\n",
              "    'units': 10,\n",
              "    'activation': 'softmax',\n",
              "    'use_bias': True,\n",
              "    'kernel_initializer': {'class_name': 'GlorotUniform',\n",
              "     'config': {'seed': None}},\n",
              "    'bias_initializer': {'class_name': 'Zeros', 'config': {}},\n",
              "    'kernel_regularizer': None,\n",
              "    'bias_regularizer': None,\n",
              "    'activity_regularizer': None,\n",
              "    'kernel_constraint': None,\n",
              "    'bias_constraint': None}}]}"
            ]
          },
          "metadata": {},
          "execution_count": 5
        }
      ]
    },
    {
      "cell_type": "markdown",
      "source": [
        "Neste estudo também houve teste de inicialização de pesos com valores zerados com péssimo impacto no treino da rede, mantendo-se a acurácia e perda de treino e validação sem nenhuma melhoria ao longo de todas as épocas, refletindo o problema de vanishing gradient.\n",
        "\n",
        "Testou-se também pesos aleatórios, com melhoria, porém desempenho ainda baixo comparado a inicialização usando a distribuição uniforme de xavier glorot, haja vista que a mesma usa uma grandeza que respeita a proporção de probabilidades do alvo e isto torna os pesos da rede mais ajustados para o processo de treino do modelo. A inicialização Glorot é a padrão do keras.\n",
        "\n",
        "Ao testar a inicialização de vieses com zeros, verificou-se que o aprendizado continuou boa, pois na verdade, por padrão o keras já inicia os vieses com zeros."
      ],
      "metadata": {
        "id": "TzIZmz9VRYPb"
      }
    }
  ]
}